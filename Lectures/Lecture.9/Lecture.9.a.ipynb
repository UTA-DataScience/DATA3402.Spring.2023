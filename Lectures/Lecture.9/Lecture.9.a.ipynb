{
 "cells": [
  {
   "cell_type": "markdown",
   "metadata": {},
   "source": [
    "# Lecture 9 (Part b)"
   ]
  },
  {
   "cell_type": "markdown",
   "metadata": {},
   "source": [
    "## Public, Protected, Private\n",
    "\n",
    "In most objected oriented languages, data encapsulation is achieved by enabling classes to declair protected and private data members in addition to the public ones. Quick recap:\n",
    "\n",
    "* Public members are accessible to everyone\n",
    "* Private members are only accessible to the class itself\n",
    "* Protected members are accessiblve to the all instances of the same class (including child classes) \n",
    "\n",
    "Python's implementation of data encapsulation is not strictly enforced by the langauge and is mostly a convention. Data members starting with one underscore (`_`) are protected. Data members starting with two underscores (`__`) are private.\n",
    "\n",
    "Consider the following example:"
   ]
  },
  {
   "cell_type": "code",
   "execution_count": null,
   "metadata": {},
   "outputs": [],
   "source": [
    "class parent:\n",
    "    def __init__(self):\n",
    "        self.public=\"I'm Public\"\n",
    "        self._protected=\"I'm Protected\"\n",
    "        self.__private=\"I'm Private\"\n",
    "        \n",
    "    def set_private_parent(self,v):\n",
    "        self.__private=v\n",
    "        \n",
    "    def get_private_parent(self):\n",
    "        return self.__private\n",
    "        \n",
    "class child(parent):\n",
    "    def __init__(self, init_parent=True):\n",
    "        if init_parent:\n",
    "            super(child,self).__init__()\n",
    "    \n",
    "    def set_public(self,v):\n",
    "        self.public=v\n",
    "        \n",
    "    def set_protected(self,v):\n",
    "        self._protected=v\n",
    "\n",
    "    def set_private(self,v):\n",
    "        self.__private=v\n",
    "        \n",
    "    def get_public(self):\n",
    "        return self.public\n",
    "        \n",
    "    def get_protected(self):\n",
    "        return self._protected\n",
    "\n",
    "    def get_private(self):\n",
    "        return self.__private\n"
   ]
  },
  {
   "cell_type": "markdown",
   "metadata": {},
   "source": [
    "First note that because we declared the data members in the parent constructor, we have to make sure that the child calls the parent constructor."
   ]
  },
  {
   "cell_type": "code",
   "execution_count": null,
   "metadata": {},
   "outputs": [],
   "source": [
    "child_instance = child(init_parent=False)\n",
    "child_instance.public"
   ]
  },
  {
   "cell_type": "markdown",
   "metadata": {},
   "source": [
    "Even though we wrote accessors (setters and getters), we can directly access and set the data:"
   ]
  },
  {
   "cell_type": "code",
   "execution_count": null,
   "metadata": {},
   "outputs": [],
   "source": [
    "child_instance = child()\n",
    "print(child_instance.public)\n",
    "child_instance.public=\"Changed Public\"\n",
    "print(child_instance.public)"
   ]
  },
  {
   "cell_type": "markdown",
   "metadata": {},
   "source": [
    "Of couse the accessors also work:"
   ]
  },
  {
   "cell_type": "code",
   "execution_count": null,
   "metadata": {},
   "outputs": [],
   "source": [
    "child_instance = child()\n",
    "print(child_instance.get_public())\n",
    "child_instance.set_public(\"Changed Public\")\n",
    "print(child_instance.get_public())"
   ]
  },
  {
   "cell_type": "markdown",
   "metadata": {},
   "source": [
    "How about the protected?"
   ]
  },
  {
   "cell_type": "code",
   "execution_count": null,
   "metadata": {},
   "outputs": [],
   "source": [
    "print(child_instance._protected)\n",
    "child_instance._protected=\"Changed Protected\"\n",
    "print(child_instance._protected)"
   ]
  },
  {
   "cell_type": "code",
   "execution_count": null,
   "metadata": {},
   "outputs": [],
   "source": [
    "child_instance = child()\n",
    "print(child_instance.get_protected())\n",
    "child_instance.set_protected(\"Changed Protected\")\n",
    "print(child_instance.get_protected())"
   ]
  },
  {
   "cell_type": "markdown",
   "metadata": {},
   "source": [
    "So there isn't any difference between public and protected in python. We can just adopt the convention that data members starting with a single underscore will be only accessed via accessors. \n",
    "\n",
    "How about private?"
   ]
  },
  {
   "cell_type": "code",
   "execution_count": null,
   "metadata": {},
   "outputs": [],
   "source": [
    "print(child_instance.__private)\n",
    "child_instance.__private=\"Changed Private\"\n",
    "print(child_instance.__private)"
   ]
  },
  {
   "cell_type": "markdown",
   "metadata": {},
   "source": [
    "It appears that we finally have some protection. A closer look shows how its done:"
   ]
  },
  {
   "cell_type": "code",
   "execution_count": null,
   "metadata": {},
   "outputs": [],
   "source": [
    "dir(child_instance)"
   ]
  },
  {
   "cell_type": "markdown",
   "metadata": {},
   "source": [
    "Note that instead of a data member `__private` we have a data member `_parent__private`. All python does is to replace anything that has the pattern `<class_name>.__<data_name>` to `<class_name>._<class_name>__<data_name>`. So in fact, we can still change this data member and there is no real protection:"
   ]
  },
  {
   "cell_type": "code",
   "execution_count": null,
   "metadata": {},
   "outputs": [],
   "source": [
    "print(child_instance._parent__private)\n",
    "child_instance._parent__private=\"Changed Private\"\n",
    "print(child_instance._parent__private)"
   ]
  },
  {
   "cell_type": "markdown",
   "metadata": {},
   "source": [
    "Just to make sure we understand, here what the parent class looks like:"
   ]
  },
  {
   "cell_type": "code",
   "execution_count": null,
   "metadata": {},
   "outputs": [],
   "source": [
    "parent_instance=parent()\n",
    "dir(parent_instance)"
   ]
  },
  {
   "cell_type": "markdown",
   "metadata": {},
   "source": [
    "Note that a child cannot change a parent's private data:"
   ]
  },
  {
   "cell_type": "code",
   "execution_count": null,
   "metadata": {},
   "outputs": [],
   "source": [
    "child_instance = child()\n",
    "print(child_instance.get_private())\n",
    "child_instance.set_private(\"Changed Private\")\n",
    "print(child_instance.get_private())"
   ]
  },
  {
   "cell_type": "code",
   "execution_count": null,
   "metadata": {},
   "outputs": [],
   "source": [
    "child_instance = child()\n",
    "print(child_instance.get_private_parent())\n",
    "child_instance.set_private_parent(\"Changed Private\")\n",
    "print(child_instance.get_private_parent())"
   ]
  },
  {
   "cell_type": "markdown",
   "metadata": {},
   "source": [
    "Why don't I get an error in the following case? "
   ]
  },
  {
   "cell_type": "code",
   "execution_count": null,
   "metadata": {},
   "outputs": [],
   "source": [
    "child_instance = child()\n",
    "print(child_instance.get_private_parent())\n",
    "child_instance.set_private(\"Changed Private\")\n",
    "print(child_instance.get_private_parent())"
   ]
  },
  {
   "cell_type": "markdown",
   "metadata": {},
   "source": [
    "Note that the code doesn't work as intended... why? \n",
    "\n",
    "See if you can figure it out by looking at:"
   ]
  },
  {
   "cell_type": "code",
   "execution_count": null,
   "metadata": {},
   "outputs": [],
   "source": [
    "dir(child_instance)"
   ]
  },
  {
   "cell_type": "markdown",
   "metadata": {},
   "source": [
    "## Data Serialization\n",
    "\n",
    "Data serialization refers to the process of converting data (usually in memory) that may have complex structure (e.g. a tree), into a linear sequence that can be use to reconstitute the original data structure. Such a sequence can be stored in a file or transmitted over a network. \n",
    "\n",
    "For example consider the following \"simple\" data structure:"
   ]
  },
  {
   "cell_type": "code",
   "execution_count": null,
   "metadata": {},
   "outputs": [],
   "source": [
    "# Simple Data Type\n",
    "\n",
    "data_dict = { \"A\": 1, \n",
    "              \"B\": \"Foo\"}"
   ]
  },
  {
   "cell_type": "markdown",
   "metadata": {},
   "source": [
    "### Python `repr`\n",
    "\n",
    "The python `repr` method of build-ins and classes you implement can be used as a means of serialization. Take any python built in and you can see it's string representation, which is essentially a string of python code that can evaluates to the object:"
   ]
  },
  {
   "cell_type": "code",
   "execution_count": null,
   "metadata": {},
   "outputs": [],
   "source": [
    "repr(data_dict)"
   ]
  },
  {
   "cell_type": "markdown",
   "metadata": {},
   "source": [
    "This representation can be easily written to a file:"
   ]
  },
  {
   "cell_type": "code",
   "execution_count": null,
   "metadata": {},
   "outputs": [],
   "source": [
    "with open('file.py',\"w\") as f: \n",
    "    f.write(repr(data_dict))"
   ]
  },
  {
   "cell_type": "code",
   "execution_count": null,
   "metadata": {},
   "outputs": [],
   "source": [
    "!cat file.py"
   ]
  },
  {
   "cell_type": "markdown",
   "metadata": {},
   "source": [
    "And reconstituted by evaluating the contents of the file:"
   ]
  },
  {
   "cell_type": "code",
   "execution_count": null,
   "metadata": {},
   "outputs": [],
   "source": [
    "with open('file.py', 'r') as f: \n",
    "    data_dict_reloaded = eval(f.read())\n",
    "\n",
    "data_dict_reloaded"
   ]
  },
  {
   "cell_type": "markdown",
   "metadata": {},
   "source": [
    "Note that `eval` uses the python interpreter to execute python expressions stored in strings:"
   ]
  },
  {
   "cell_type": "code",
   "execution_count": null,
   "metadata": {},
   "outputs": [],
   "source": [
    "eval(\"print('Hello World')\")"
   ]
  },
  {
   "cell_type": "code",
   "execution_count": null,
   "metadata": {},
   "outputs": [],
   "source": [
    "x=eval(\"1+1\")\n",
    "x"
   ]
  },
  {
   "cell_type": "markdown",
   "metadata": {},
   "source": [
    "### YAML\n",
    "\n",
    "There are other standard formats for storing simple data types. For example YAML:"
   ]
  },
  {
   "cell_type": "code",
   "execution_count": null,
   "metadata": {},
   "outputs": [],
   "source": [
    "import yaml\n",
    "yaml.dump(data_dict)"
   ]
  },
  {
   "cell_type": "code",
   "execution_count": null,
   "metadata": {},
   "outputs": [],
   "source": [
    "with open('file.yaml',\"w\") as f: \n",
    "    f.write(yaml.dump(data_dict))"
   ]
  },
  {
   "cell_type": "code",
   "execution_count": null,
   "metadata": {},
   "outputs": [],
   "source": [
    "!cat file.yaml"
   ]
  },
  {
   "cell_type": "code",
   "execution_count": null,
   "metadata": {},
   "outputs": [],
   "source": [
    "!ls "
   ]
  },
  {
   "cell_type": "code",
   "execution_count": null,
   "metadata": {},
   "outputs": [],
   "source": [
    "with open('file.yaml', 'r') as f: \n",
    "    data_dict_reloaded = yaml.safe_load(f.read())\n",
    "\n",
    "data_dict_reloaded"
   ]
  },
  {
   "cell_type": "markdown",
   "metadata": {},
   "source": [
    "### JSON\n",
    "\n",
    "[JSON](https://www.json.org/json-en.html) is commonly used to transmit data on the web:"
   ]
  },
  {
   "cell_type": "code",
   "execution_count": null,
   "metadata": {},
   "outputs": [],
   "source": [
    "import json\n",
    "json.dumps(data_dict)"
   ]
  },
  {
   "cell_type": "code",
   "execution_count": null,
   "metadata": {},
   "outputs": [],
   "source": [
    "with open('file.json',\"w\") as f: \n",
    "    json.dump(data_dict,f)"
   ]
  },
  {
   "cell_type": "code",
   "execution_count": null,
   "metadata": {},
   "outputs": [],
   "source": [
    "!cat file.json"
   ]
  },
  {
   "cell_type": "code",
   "execution_count": null,
   "metadata": {},
   "outputs": [],
   "source": [
    "with open('file.json', 'r') as f: \n",
    "    data_dict_reloaded = json.load(f)\n",
    "\n",
    "data_dict_reloaded"
   ]
  },
  {
   "cell_type": "markdown",
   "metadata": {},
   "source": [
    "### XML\n",
    "\n",
    "XML is another format commonly used for storing data. It allows a bit more structure and there are python tools for creating XML representations of data, but it's a bit more complicated than the example above, so we'll skip it for now."
   ]
  },
  {
   "cell_type": "markdown",
   "metadata": {},
   "source": [
    "### pickle\n",
    "\n",
    "[pickle](https://docs.python.org/3/library/pickle.html) is python's method of serialing objects. Some advantages are that it is a binary format, so it is more compact, and that it can store full python objects, not just simple built-ins. Lets look at the [pickle documentation](https://docs.python.org/3/library/pickle.html) first.\n",
    "\n",
    "Here is an example:"
   ]
  },
  {
   "cell_type": "code",
   "execution_count": null,
   "metadata": {},
   "outputs": [],
   "source": [
    "import pickle\n",
    "pickle.dumps(data_dict,protocol=2)"
   ]
  },
  {
   "cell_type": "code",
   "execution_count": null,
   "metadata": {},
   "outputs": [],
   "source": [
    "with open('file.pickle',\"wb\") as f: \n",
    "    pickle.dump(data_dict,f)"
   ]
  },
  {
   "cell_type": "code",
   "execution_count": null,
   "metadata": {},
   "outputs": [],
   "source": [
    "!cat file.pickle"
   ]
  },
  {
   "cell_type": "code",
   "execution_count": null,
   "metadata": {},
   "outputs": [],
   "source": [
    "with open('file.pickle', 'rb') as f: \n",
    "    data_dict_reloaded = pickle.load(f)\n",
    "\n",
    "data_dict_reloaded"
   ]
  },
  {
   "cell_type": "markdown",
   "metadata": {},
   "source": [
    "## Python classes\n",
    "\n",
    "Imagine you have data stored in a python object:"
   ]
  },
  {
   "cell_type": "code",
   "execution_count": null,
   "metadata": {},
   "outputs": [],
   "source": [
    "# Instance of a python class with data\n",
    "\n",
    "class data_class:\n",
    "    def __init__(self):\n",
    "        self._data = dict()\n",
    "    \n",
    "    def add(self,key,value):\n",
    "        self._data[key]=value\n",
    "        \n",
    "    def get(self,key):\n",
    "        return self._data[key]\n",
    "    \n",
    "    def __repr__(self):\n",
    "        return self._data.__repr__()\n",
    "\n",
    "data_class_instance = data_class()\n",
    "data_class_instance.add(\"A\",1)\n",
    "data_class_instance.add(\"B\",\"Foo\")\n",
    "\n",
    "print(\"Value of A:\", data_class_instance.get(\"A\"))\n",
    "print(\"Value of B:\", data_class_instance.get(\"B\"))"
   ]
  },
  {
   "cell_type": "markdown",
   "metadata": {},
   "source": [
    "Since we implemented `__repr__`, I should be able to store the data using `repr`:"
   ]
  },
  {
   "cell_type": "code",
   "execution_count": null,
   "metadata": {},
   "outputs": [],
   "source": [
    "with open('file.py',\"w\") as f: \n",
    "    f.write(repr(data_class_instance))"
   ]
  },
  {
   "cell_type": "code",
   "execution_count": null,
   "metadata": {},
   "outputs": [],
   "source": [
    "with open('file.py', 'r') as f: \n",
    "    data_class_instance_reloaded = eval(f.read())\n",
    "\n",
    "data_class_instance_reloaded"
   ]
  },
  {
   "cell_type": "markdown",
   "metadata": {},
   "source": [
    "But what I get back is not the original object reconstituted, but a dictionary holding the data:"
   ]
  },
  {
   "cell_type": "code",
   "execution_count": null,
   "metadata": {},
   "outputs": [],
   "source": [
    "type(data_class_instance_reloaded)"
   ]
  },
  {
   "cell_type": "code",
   "execution_count": null,
   "metadata": {},
   "outputs": [],
   "source": [
    "data_class_instance_reloaded.add(\"C\",2)"
   ]
  },
  {
   "cell_type": "code",
   "execution_count": null,
   "metadata": {},
   "outputs": [],
   "source": [
    "data_class_instance_reloaded"
   ]
  },
  {
   "cell_type": "markdown",
   "metadata": {},
   "source": [
    "### pickle\n",
    "\n",
    "Pickle allows me to store the object:"
   ]
  },
  {
   "cell_type": "code",
   "execution_count": null,
   "metadata": {},
   "outputs": [],
   "source": [
    "with open('file.pickle',\"wb\") as f: \n",
    "    pickle.dump(data_class_instance,f)"
   ]
  },
  {
   "cell_type": "code",
   "execution_count": null,
   "metadata": {},
   "outputs": [],
   "source": [
    "with open('file.pickle', 'rb') as f: \n",
    "    data_class_instance_reloaded = pickle.load(f)\n",
    "\n",
    "data_class_instance_reloaded"
   ]
  },
  {
   "cell_type": "code",
   "execution_count": null,
   "metadata": {},
   "outputs": [],
   "source": [
    "type(data_class_instance_reloaded)"
   ]
  },
  {
   "cell_type": "code",
   "execution_count": null,
   "metadata": {},
   "outputs": [],
   "source": [
    "data_class_instance_reloaded.add(\"C\",2)"
   ]
  },
  {
   "cell_type": "markdown",
   "metadata": {},
   "source": [
    "## Storing Multiple Objects into Pickle\n",
    "\n",
    "Use a dictionary."
   ]
  },
  {
   "cell_type": "code",
   "execution_count": null,
   "metadata": {},
   "outputs": [],
   "source": [
    "data_class_instance_2 = data_class()\n",
    "data_class_instance_2.add(\"C\",2)\n",
    "data_class_instance_2.add(\"D\",\"Bar\")"
   ]
  },
  {
   "cell_type": "code",
   "execution_count": null,
   "metadata": {},
   "outputs": [],
   "source": [
    "with open('file.pickle',\"wb\") as f: \n",
    "    pickle.dump({\"my_class\":data_class_instance,\n",
    "                 \"my_class_2\":data_class_instance_2},\n",
    "                f)"
   ]
  },
  {
   "cell_type": "code",
   "execution_count": null,
   "metadata": {},
   "outputs": [],
   "source": [
    "with open('file.pickle', 'rb') as f: \n",
    "    loaded_data = pickle.load(f)\n",
    "\n",
    "data_class_instance_reloaded = loaded_data[\"my_class\"]\n",
    "data_class_instance_reloaded_2 = loaded_data[\"my_class_2\"]"
   ]
  },
  {
   "cell_type": "markdown",
   "metadata": {},
   "source": [
    "## Pickling Data"
   ]
  },
  {
   "cell_type": "code",
   "execution_count": null,
   "metadata": {},
   "outputs": [],
   "source": [
    "import numpy as np\n",
    "M = np.random.random((1000,1000))"
   ]
  },
  {
   "cell_type": "code",
   "execution_count": null,
   "metadata": {},
   "outputs": [],
   "source": [
    "with open('M.pickle',\"wb\") as f: \n",
    "    pickle.dump(M, f)"
   ]
  },
  {
   "cell_type": "code",
   "execution_count": null,
   "metadata": {},
   "outputs": [],
   "source": [
    "np.save(\"M.npy\",M)"
   ]
  },
  {
   "cell_type": "code",
   "execution_count": null,
   "metadata": {},
   "outputs": [],
   "source": [
    "!ls -lh"
   ]
  },
  {
   "cell_type": "code",
   "execution_count": null,
   "metadata": {},
   "outputs": [],
   "source": [
    "!ls -l"
   ]
  },
  {
   "cell_type": "code",
   "execution_count": null,
   "metadata": {},
   "outputs": [],
   "source": [
    "M_list=M.tolist()"
   ]
  },
  {
   "cell_type": "code",
   "execution_count": null,
   "metadata": {},
   "outputs": [],
   "source": [
    "with open('M_list.pickle',\"wb\") as f: \n",
    "    pickle.dump(M, f)"
   ]
  },
  {
   "cell_type": "code",
   "execution_count": null,
   "metadata": {},
   "outputs": [],
   "source": [
    "!ls -lh"
   ]
  },
  {
   "cell_type": "code",
   "execution_count": null,
   "metadata": {},
   "outputs": [],
   "source": [
    "!ls -l"
   ]
  },
  {
   "cell_type": "code",
   "execution_count": null,
   "metadata": {},
   "outputs": [],
   "source": [
    "!rm *.pickle *.yaml *.json file.py"
   ]
  }
 ],
 "metadata": {
  "kernelspec": {
   "display_name": "Python 3 (ipykernel)",
   "language": "python",
   "name": "python3"
  },
  "language_info": {
   "codemirror_mode": {
    "name": "ipython",
    "version": 3
   },
   "file_extension": ".py",
   "mimetype": "text/x-python",
   "name": "python",
   "nbconvert_exporter": "python",
   "pygments_lexer": "ipython3",
   "version": "3.8.9"
  }
 },
 "nbformat": 4,
 "nbformat_minor": 4
}
